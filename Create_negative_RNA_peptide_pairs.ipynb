{
  "nbformat": 4,
  "nbformat_minor": 0,
  "metadata": {
    "colab": {
      "provenance": []
    },
    "kernelspec": {
      "name": "python3",
      "display_name": "Python 3"
    },
    "language_info": {
      "name": "python"
    }
  },
  "cells": [
    {
      "cell_type": "code",
      "execution_count": 1,
      "metadata": {
        "id": "xJQlW-2xAPI4",
        "colab": {
          "base_uri": "https://localhost:8080/"
        },
        "outputId": "73bba2fb-8153-486b-c389-8fc0588ddfd3"
      },
      "outputs": [
        {
          "output_type": "stream",
          "name": "stdout",
          "text": [
            "Mounted at /content/drive\n"
          ]
        },
        {
          "output_type": "stream",
          "name": "stderr",
          "text": [
            "🔁 Generating negative pairs: 100%|██████████| 2241/2241 [00:00<00:00, 81978.73it/s]\n"
          ]
        },
        {
          "output_type": "stream",
          "name": "stdout",
          "text": [
            "\n",
            "📊 Summary\n",
            "Positive samples input      : 2241\n",
            "Negative samples generated  : 2241\n",
            "Total sampling attempts     : 2289\n",
            "Pairs skipped (was positive): 48\n",
            "Saved to:\n",
            "  - CSV: /content/drive/MyDrive/RNA-peptide/rna_protein_positive_pairs_full_neg.csv\n",
            "  - PKL: /content/drive/MyDrive/RNA-peptide/rna_protein_positive_pairs_full_neg.pkl\n"
          ]
        }
      ],
      "source": [
        "import pandas as pd\n",
        "import random\n",
        "import pickle\n",
        "from tqdm import tqdm\n",
        "\n",
        "from google.colab import drive\n",
        "\n",
        "# 🧪 Step 3: Mount Google Drive\n",
        "drive.mount('/content/drive')\n",
        "\n",
        "# === ✅ Configuration ===\n",
        "positive_csv_path = \"/content/drive/MyDrive/RNA-peptide/rna_protein_positive_pairs_full.csv\"  # your input .csv\n",
        "output_csv_path = positive_csv_path.replace(\".csv\", \"_neg.csv\")\n",
        "output_pkl_path = positive_csv_path.replace(\".csv\", \"_neg.pkl\")\n",
        "\n",
        "# === ✅ Load positive data ===\n",
        "positive_df = pd.read_csv(positive_csv_path)\n",
        "\n",
        "# Create a set of known positive (protein_seq, rna_seq) combinations\n",
        "positive_pairs = set((row['protein_seq'], row['rna_seq']) for _, row in positive_df.iterrows())\n",
        "\n",
        "# Unique proteins and RNAs (with identifiers)\n",
        "all_proteins = list(positive_df[['protein_seq', 'protein_chain', 'pdb_id']].drop_duplicates().to_records(index=False))\n",
        "all_rnas = list(positive_df[['rna_seq', 'rna_chain', 'pdb_id']].drop_duplicates().to_records(index=False))\n",
        "\n",
        "# Shuffle for random selection\n",
        "random.shuffle(all_proteins)\n",
        "random.shuffle(all_rnas)\n",
        "\n",
        "# === ✅ Generate negative pairs ===\n",
        "negative_pairs = []\n",
        "attempts = 0\n",
        "needed = len(positive_df)\n",
        "skipped = 0\n",
        "\n",
        "pbar = tqdm(total=needed, desc=\"🔁 Generating negative pairs\")\n",
        "\n",
        "while len(negative_pairs) < needed and attempts < 20 * needed:\n",
        "    prot_seq, prot_chain, prot_pdb = random.choice(all_proteins)\n",
        "    rna_seq, rna_chain, rna_pdb = random.choice(all_rnas)\n",
        "\n",
        "    if (prot_seq, rna_seq) not in positive_pairs:\n",
        "        entry = {\n",
        "            \"pdb_id\": f\"{prot_pdb}_{rna_pdb}_neg\",\n",
        "            \"protein_chain\": prot_chain,\n",
        "            \"protein_seq\": prot_seq,\n",
        "            \"rna_chain\": rna_chain,\n",
        "            \"rna_seq\": rna_seq\n",
        "        }\n",
        "        negative_pairs.append(entry)\n",
        "        positive_pairs.add((prot_seq, rna_seq))  # prevent reuse\n",
        "        pbar.update(1)\n",
        "    else:\n",
        "        skipped += 1\n",
        "    attempts += 1\n",
        "\n",
        "pbar.close()\n",
        "\n",
        "# === ✅ Convert to DataFrame and save ===\n",
        "neg_df = pd.DataFrame(negative_pairs)\n",
        "\n",
        "# Save CSV\n",
        "neg_df.to_csv(output_csv_path, index=False)\n",
        "\n",
        "# Save Pickle\n",
        "with open(output_pkl_path, 'wb') as f:\n",
        "    pickle.dump(negative_pairs, f)\n",
        "\n",
        "# === ✅ Summary ===\n",
        "print(\"\\n📊 Summary\")\n",
        "print(f\"Positive samples input      : {needed}\")\n",
        "print(f\"Negative samples generated  : {len(neg_df)}\")\n",
        "print(f\"Total sampling attempts     : {attempts}\")\n",
        "print(f\"Pairs skipped (was positive): {skipped}\")\n",
        "print(f\"Saved to:\\n  - CSV: {output_csv_path}\\n  - PKL: {output_pkl_path}\")\n"
      ]
    },
    {
      "cell_type": "code",
      "source": [
        "# Load if not already\n",
        "import pandas as pd\n",
        "\n",
        "pos_path = \"/content/drive/MyDrive/RNA-peptide/rna_protein_positive_pairs_full.csv\"\n",
        "neg_path = \"/content/drive/MyDrive/RNA-peptide/rna_protein_positive_pairs_full_neg.csv\"\n",
        "\n",
        "df_pos = pd.read_csv(pos_path)\n",
        "df_neg = pd.read_csv(neg_path)\n",
        "\n",
        "# Add labels\n",
        "df_pos['label'] = 1\n",
        "df_neg['label'] = 0\n",
        "\n",
        "# Combine\n",
        "combined_df = pd.concat([df_pos, df_neg], ignore_index=True)\n",
        "combined_df.to_csv(\"/content/drive/MyDrive/RNA-peptide/rna_protein_positive_negative_pairs_full_combined.csv\", index=False)\n",
        "print(\"✅ Combined file saved to rna_protein_positive_negative_pairs_full_combined.csv\")\n"
      ],
      "metadata": {
        "colab": {
          "base_uri": "https://localhost:8080/"
        },
        "id": "4uSSomF6U68D",
        "outputId": "2f59d6f3-8a54-4578-cedb-84255c2b930f"
      },
      "execution_count": 2,
      "outputs": [
        {
          "output_type": "stream",
          "name": "stdout",
          "text": [
            "✅ Combined file saved to rna_protein_positive_negative_pairs_full_combined.csv\n"
          ]
        }
      ]
    }
  ]
}