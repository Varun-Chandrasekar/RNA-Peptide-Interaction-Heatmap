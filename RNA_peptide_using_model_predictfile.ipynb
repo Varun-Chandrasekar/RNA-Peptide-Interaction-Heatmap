{
  "nbformat": 4,
  "nbformat_minor": 0,
  "metadata": {
    "colab": {
      "provenance": []
    },
    "kernelspec": {
      "name": "python3",
      "display_name": "Python 3"
    },
    "language_info": {
      "name": "python"
    }
  },
  "cells": [
    {
      "cell_type": "code",
      "execution_count": 4,
      "metadata": {
        "colab": {
          "base_uri": "https://localhost:8080/"
        },
        "id": "WrUzHRCMYEJK",
        "outputId": "9a5e2081-f301-4e1a-a189-a702154ff2f6"
      },
      "outputs": [
        {
          "output_type": "stream",
          "name": "stdout",
          "text": [
            "Drive already mounted at /content/drive; to attempt to forcibly remount, call drive.mount(\"/content/drive\", force_remount=True).\n",
            "✅ Model loaded\n",
            "\u001b[1m1/1\u001b[0m \u001b[32m━━━━━━━━━━━━━━━━━━━━\u001b[0m\u001b[37m\u001b[0m \u001b[1m0s\u001b[0m 140ms/step\n",
            "✅ Saved heatmaps for Sample 0\n",
            "\u001b[1m1/1\u001b[0m \u001b[32m━━━━━━━━━━━━━━━━━━━━\u001b[0m\u001b[37m\u001b[0m \u001b[1m0s\u001b[0m 45ms/step\n",
            "✅ Saved heatmaps for Sample 1\n",
            "\u001b[1m1/1\u001b[0m \u001b[32m━━━━━━━━━━━━━━━━━━━━\u001b[0m\u001b[37m\u001b[0m \u001b[1m0s\u001b[0m 47ms/step\n",
            "✅ Saved heatmaps for Sample 2\n",
            "\u001b[1m1/1\u001b[0m \u001b[32m━━━━━━━━━━━━━━━━━━━━\u001b[0m\u001b[37m\u001b[0m \u001b[1m0s\u001b[0m 41ms/step\n",
            "✅ Saved heatmaps for Sample 3\n",
            "\u001b[1m1/1\u001b[0m \u001b[32m━━━━━━━━━━━━━━━━━━━━\u001b[0m\u001b[37m\u001b[0m \u001b[1m0s\u001b[0m 48ms/step\n",
            "✅ Saved heatmaps for Sample 4\n",
            "\u001b[1m1/1\u001b[0m \u001b[32m━━━━━━━━━━━━━━━━━━━━\u001b[0m\u001b[37m\u001b[0m \u001b[1m0s\u001b[0m 65ms/step\n",
            "✅ Saved heatmaps for Sample 5\n",
            "\u001b[1m1/1\u001b[0m \u001b[32m━━━━━━━━━━━━━━━━━━━━\u001b[0m\u001b[37m\u001b[0m \u001b[1m0s\u001b[0m 43ms/step\n",
            "✅ Saved heatmaps for Sample 6\n",
            "\u001b[1m1/1\u001b[0m \u001b[32m━━━━━━━━━━━━━━━━━━━━\u001b[0m\u001b[37m\u001b[0m \u001b[1m0s\u001b[0m 42ms/step\n",
            "✅ Saved heatmaps for Sample 7\n",
            "\u001b[1m1/1\u001b[0m \u001b[32m━━━━━━━━━━━━━━━━━━━━\u001b[0m\u001b[37m\u001b[0m \u001b[1m0s\u001b[0m 42ms/step\n",
            "✅ Saved heatmaps for Sample 8\n",
            "\u001b[1m1/1\u001b[0m \u001b[32m━━━━━━━━━━━━━━━━━━━━\u001b[0m\u001b[37m\u001b[0m \u001b[1m0s\u001b[0m 42ms/step\n",
            "✅ Saved heatmaps for Sample 9\n"
          ]
        }
      ],
      "source": [
        "# ✅ Step 1: Install and import dependencies\n",
        "!pip install -q tensorflow plotly\n",
        "import tensorflow as tf\n",
        "from tensorflow.keras.models import load_model, Model\n",
        "import pandas as pd\n",
        "import numpy as np\n",
        "import matplotlib.pyplot as plt\n",
        "import seaborn as sns\n",
        "import plotly.express as px\n",
        "from google.colab import drive\n",
        "\n",
        "# ✅ Step 2: Mount Google Drive\n",
        "drive.mount('/content/drive')\n",
        "\n",
        "# ✅ Step 3: Load model\n",
        "model_path = '/content/drive/MyDrive/RNA-peptide/rna_peptide_dual_model_with_4486.keras'\n",
        "model = load_model(model_path)\n",
        "intermediate_model = Model(inputs=model.input, outputs=model.get_layer('interaction_features').output)\n",
        "print(\"✅ Model loaded\")\n",
        "\n",
        "# ✅ Step 4: Define vocabularies and encoding\n",
        "rna_vocab = list(\"AUGC\")\n",
        "aa_vocab = list(\"ACDEFGHIKLMNPQRSTVWY\")\n",
        "rna_dict = {ch: i for i, ch in enumerate(rna_vocab)}\n",
        "aa_dict = {ch: i for i, ch in enumerate(aa_vocab)}\n",
        "\n",
        "def one_hot_encode(seq, vocab_dict, max_len):\n",
        "    encoded = np.zeros((max_len, len(vocab_dict)))\n",
        "    for i, ch in enumerate(seq[:max_len]):\n",
        "        if ch in vocab_dict:\n",
        "            encoded[i, vocab_dict[ch]] = 1\n",
        "    return encoded.flatten()\n",
        "\n",
        "MAX_RNA_LEN = 100\n",
        "MAX_PEP_LEN = 100\n",
        "\n",
        "# ✅ Step 5: Load predict file (CSV)\n",
        "predict_df = pd.read_csv('/content/drive/MyDrive/RNA-peptide/predict.csv')  # Make sure it has `rna_seq` and `protein_seq` columns\n",
        "\n",
        "# ✅ Step 6: Loop through each row and plot both static and interactive heatmaps\n",
        "for idx, row in predict_df.iterrows():\n",
        "    rna_seq = row['rna_seq']\n",
        "    pep_seq = row['protein_seq']\n",
        "\n",
        "    encoded_rna_input = np.expand_dims(one_hot_encode(rna_seq, rna_dict, MAX_RNA_LEN), axis=0)\n",
        "    encoded_peptide_input = np.expand_dims(one_hot_encode(pep_seq, aa_dict, MAX_PEP_LEN), axis=0)\n",
        "\n",
        "    interaction_features = intermediate_model.predict([encoded_rna_input, encoded_peptide_input])[0]\n",
        "    interaction_matrix = interaction_features.reshape(8, 8)\n",
        "\n",
        "    # ✅ Create biologically meaningful labels\n",
        "    rna_labels = [f\"{base}{i+1}\" for i, base in enumerate(rna_seq[:8])]\n",
        "    pep_labels = [f\"{aa}{i+1}\" for i, aa in enumerate(pep_seq[:8])]\n",
        "\n",
        "    # ✅ Plot static heatmap\n",
        "    plt.figure(figsize=(8, 6))\n",
        "    sns.heatmap(interaction_matrix, xticklabels=pep_labels, yticklabels=rna_labels,\n",
        "                cmap='viridis', annot=True, fmt=\".2f\", linewidths=0.5,\n",
        "                cbar_kws={'label': 'Activation'})\n",
        "    plt.title(f\"RNA–Peptide Interaction (Sample {idx})\")\n",
        "    plt.xlabel(\"Peptide Positions\")\n",
        "    plt.ylabel(\"RNA Bases\")\n",
        "    plt.tight_layout()\n",
        "    plt.savefig(f\"/content/drive/MyDrive/RNA-peptide/heatmap_sample_{idx}.png\")\n",
        "    plt.close()\n",
        "\n",
        "    # ✅ Interactive heatmap\n",
        "    df_matrix = pd.DataFrame(interaction_matrix, index=rna_labels, columns=pep_labels)\n",
        "    fig = px.imshow(df_matrix, text_auto=True,\n",
        "                    labels=dict(x=\"Peptide\", y=\"RNA\", color=\"Activation\"),\n",
        "                    title=f\"Interactive RNA–Peptide Heatmap (Sample {idx})\",\n",
        "                    color_continuous_scale=\"Viridis\")\n",
        "    fig.write_html(f\"/content/drive/MyDrive/RNA-peptide/interactive_heatmap_sample_{idx}.html\")\n",
        "    print(f\"✅ Saved heatmaps for Sample {idx}\")\n"
      ]
    }
  ]
}
